{
 "cells": [
  {
   "cell_type": "markdown",
   "id": "1c54928f",
   "metadata": {},
   "source": [
    "# 1St python Program"
   ]
  },
  {
   "cell_type": "code",
   "execution_count": 1,
   "id": "3436dd64",
   "metadata": {},
   "outputs": [
    {
     "name": "stdout",
     "output_type": "stream",
     "text": [
      "Hello my viewers\n"
     ]
    }
   ],
   "source": [
    "print('Hello my viewers')"
   ]
  },
  {
   "cell_type": "markdown",
   "id": "64dec67b",
   "metadata": {},
   "source": [
    "# Python Variables\n",
    "Variable declaration"
   ]
  },
  {
   "cell_type": "code",
   "execution_count": 3,
   "id": "ba806d12",
   "metadata": {},
   "outputs": [
    {
     "data": {
      "text/plain": [
       "5"
      ]
     },
     "execution_count": 3,
     "metadata": {},
     "output_type": "execute_result"
    }
   ],
   "source": [
    "#varable is declared as values 5 is assigned to it.\n",
    "x = 5\n",
    "x"
   ]
  },
  {
   "cell_type": "code",
   "execution_count": 5,
   "id": "0d46fc9e",
   "metadata": {},
   "outputs": [
    {
     "data": {
      "text/plain": [
       "100"
      ]
     },
     "execution_count": 5,
     "metadata": {},
     "output_type": "execute_result"
    }
   ],
   "source": [
    "xyz = 100\n",
    "xyz"
   ]
  },
  {
   "cell_type": "markdown",
   "id": "26ea25b6",
   "metadata": {},
   "source": [
    "# Data Types in Python\n",
    "Numerical dat types \n",
    "1. Integers\n",
    "2. Float\n",
    "3. Complex Numbers\n",
    "4. Boolean"
   ]
  },
  {
   "cell_type": "code",
   "execution_count": 8,
   "id": "8e9781f1",
   "metadata": {},
   "outputs": [
    {
     "data": {
      "text/plain": [
       "int"
      ]
     },
     "execution_count": 8,
     "metadata": {},
     "output_type": "execute_result"
    }
   ],
   "source": [
    "# 1. Integers = are used to represent whole number values.\n",
    "x = 1000\n",
    "b = 10000\n",
    "\n",
    "type(x)\n",
    "type(b)\n",
    "\n"
   ]
  },
  {
   "cell_type": "code",
   "execution_count": 9,
   "id": "4fb7c228",
   "metadata": {},
   "outputs": [
    {
     "data": {
      "text/plain": [
       "float"
      ]
     },
     "execution_count": 9,
     "metadata": {},
     "output_type": "execute_result"
    }
   ],
   "source": [
    "# 2. Float = data type is used to represent decimal point values.\n",
    "\n",
    "x = 100.10\n",
    "y = 13.13\n",
    "type(x)\n",
    "type(y)\n"
   ]
  },
  {
   "cell_type": "code",
   "execution_count": 10,
   "id": "a6ace0f4",
   "metadata": {},
   "outputs": [
    {
     "data": {
      "text/plain": [
       "complex"
      ]
     },
     "execution_count": 10,
     "metadata": {},
     "output_type": "execute_result"
    }
   ],
   "source": [
    "# 3. xomplex = number are use to repesent imaginary values.\n",
    "z = 12+4j\n",
    "type(z)"
   ]
  },
  {
   "cell_type": "code",
   "execution_count": 11,
   "id": "0304ef4d",
   "metadata": {},
   "outputs": [
    {
     "name": "stdout",
     "output_type": "stream",
     "text": [
      "True\n"
     ]
    }
   ],
   "source": [
    "# 4. Bloolean = is used for categoriacal output, since the output of boolean is either true of false.\n",
    "Boo = 9>7\n",
    "\n",
    "#Boo is the boolean variable\n",
    "\n",
    "type(Boo)\n",
    "\n",
    "#the output will be bool\n",
    "\n",
    "print(Boo)\n",
    "\n",
    "#this will print true."
   ]
  },
  {
   "cell_type": "code",
   "execution_count": 21,
   "id": "3f65dc56",
   "metadata": {},
   "outputs": [
    {
     "name": "stdout",
     "output_type": "stream",
     "text": [
      "False\n"
     ]
    }
   ],
   "source": [
    "l=20<10\n",
    "print(l)"
   ]
  },
  {
   "cell_type": "code",
   "execution_count": null,
   "id": "cd7fed50",
   "metadata": {},
   "outputs": [],
   "source": []
  }
 ],
 "metadata": {
  "kernelspec": {
   "display_name": "Python 3 (ipykernel)",
   "language": "python",
   "name": "python3"
  },
  "language_info": {
   "codemirror_mode": {
    "name": "ipython",
    "version": 3
   },
   "file_extension": ".py",
   "mimetype": "text/x-python",
   "name": "python",
   "nbconvert_exporter": "python",
   "pygments_lexer": "ipython3",
   "version": "3.10.9"
  }
 },
 "nbformat": 4,
 "nbformat_minor": 5
}
